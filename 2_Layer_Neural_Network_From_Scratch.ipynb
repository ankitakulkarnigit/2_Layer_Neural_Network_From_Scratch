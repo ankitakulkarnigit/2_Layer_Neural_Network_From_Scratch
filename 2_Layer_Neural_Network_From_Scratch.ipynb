{
 "cells": [
  {
   "cell_type": "markdown",
   "id": "a1c04cfc",
   "metadata": {},
   "source": [
    "# 🧠 2-Layer Neural Network from Scratch (NumPy)\n",
    "This notebook implements a minimal neural network with one hidden layer using only NumPy. It demonstrates how forward propagation, error calculation, and backpropagation work at a low level."
   ]
  },
  {
   "cell_type": "code",
   "execution_count": 1,
   "id": "13e01f53",
   "metadata": {},
   "outputs": [],
   "source": [
    "import numpy as np  # Linear algebra library"
   ]
  },
  {
   "cell_type": "markdown",
   "id": "55c8c224",
   "metadata": {},
   "source": [
    "## Step 1. Define the Sigmoid Activation Function\n",
    "The sigmoid function maps values into (0,1), which makes it suitable for output probabilities.\n",
    "We also define its derivative, needed for backpropagation."
   ]
  },
  {
   "cell_type": "code",
   "execution_count": 2,
   "id": "3d217794",
   "metadata": {},
   "outputs": [],
   "source": [
    "def sigmoid(x, deriv=False):\n",
    "    if deriv:\n",
    "        return x * (1 - x)  # derivative of sigmoid output\n",
    "    return 1 / (1 + np.exp(-x))"
   ]
  },
  {
   "cell_type": "markdown",
   "id": "e24bfc8a",
   "metadata": {},
   "source": [
    "## Step 2. Prepare the Training Data\n",
    "Each row represents a training example, and each column is an input feature. The output `y` is a single column vector."
   ]
  },
  {
   "cell_type": "code",
   "execution_count": 3,
   "id": "48ee839b",
   "metadata": {},
   "outputs": [],
   "source": [
    "X = np.array([\n",
    "    [0, 0, 1],\n",
    "    [0, 1, 1],\n",
    "    [1, 0, 1],\n",
    "    [1, 1, 1]\n",
    "])\n",
    "\n",
    "y = np.array([[0, 0, 1, 1]]).T"
   ]
  },
  {
   "cell_type": "markdown",
   "id": "28017a50",
   "metadata": {},
   "source": [
    "## Step 3. Initialize Weights\n",
    "We randomly initialize weights (syn0) with a mean close to zero. We also set a random seed for reproducibility."
   ]
  },
  {
   "cell_type": "code",
   "execution_count": 4,
   "id": "f0a01ed9",
   "metadata": {},
   "outputs": [],
   "source": [
    "np.random.seed(1)\n",
    "syn0 = 2 * np.random.random((3, 1)) - 1  # (3 inputs × 1 output)"
   ]
  },
  {
   "cell_type": "markdown",
   "id": "abd5b577",
   "metadata": {},
   "source": [
    "## Step 4. Train the Network\n",
    "We use a simple loop for 10,000 iterations. Each iteration performs:\n",
    "- Forward propagation\n",
    "- Error computation\n",
    "- Backpropagation (weight update)\n"
   ]
  },
  {
   "cell_type": "code",
   "execution_count": 5,
   "id": "226a6861",
   "metadata": {},
   "outputs": [],
   "source": [
    "for iter in range(10000):\n",
    "    # Forward propagation\n",
    "    l0 = X\n",
    "    l1 = sigmoid(np.dot(l0, syn0))\n",
    "\n",
    "    # Compute error\n",
    "    l1_error = y - l1\n",
    "\n",
    "    # Backpropagation: apply sigmoid derivative to adjust confidence\n",
    "    l1_delta = l1_error * sigmoid(l1, deriv=True)\n",
    "\n",
    "    # Update weights\n",
    "    syn0 += np.dot(l0.T, l1_delta)"
   ]
  },
  {
   "cell_type": "markdown",
   "id": "dc8d155d",
   "metadata": {},
   "source": [
    "## Step 5. Display Results"
   ]
  },
  {
   "cell_type": "code",
   "execution_count": 10,
   "id": "d50cb61a",
   "metadata": {},
   "outputs": [
    {
     "name": "stdout",
     "output_type": "stream",
     "text": [
      "Output After Training:\n",
      "[[0.00966449]\n",
      " [0.00786506]\n",
      " [0.99358898]\n",
      " [0.99211957]]\n",
      "Rounded Output After Training:\n",
      "[[0.]\n",
      " [0.]\n",
      " [1.]\n",
      " [1.]]\n",
      "\n",
      "Learned Weights (syn0):\n",
      "[[ 9.67299303]\n",
      " [-0.2078435 ]\n",
      " [-4.62963669]]\n"
     ]
    }
   ],
   "source": [
    "print(\"Output After Training:\")\n",
    "print(l1)\n",
    "print(\"Rounded Output After Training:\")\n",
    "print(l1.round())\n",
    "print(\"\\nLearned Weights (syn0):\")\n",
    "print(syn0)"
   ]
  },
  {
   "cell_type": "markdown",
   "id": "3e694532",
   "metadata": {},
   "source": [
    "### 🧩 Takeaways\n",
    "- This is the simplest possible neural network (1 hidden layer, no bias, no hidden neurons).\n",
    "- It learns correlations between input features and outputs by adjusting weights.\n",
    "- The sigmoid derivative helps scale updates — confident predictions are adjusted less.\n",
    "- The key learning signal is the dot product of input and error gradient.\n",
    "- Reflecting on raining data:\n",
    "    - When both an input and a output are 1, we increase the weight between them. \n",
    "    - When an input is 1 and an output is 0, we decrease the weight between them.\n",
    "| Input 1 | Input 2 | Input 3 | Output |\n",
    "|:--------|:--------|:--------|:-------|\n",
    "| 0 | 0 | 1 | 0 |\n",
    "| 1 | 1 | 1 | 1 |\n",
    "| 1 | 0 | 1 | 1 |\n",
    "| 0 | 1 | 1 | 0 |\n",
    "\n",
    "    - Thus, in our four training examples below, the weight from the first input to the output would consistently \n",
    "increment or remain unchanged, \n",
    "    - Whereas the other two weights would find themselves both increasing and decreasing across training examples. \n",
    "    - This phenomenon is what causes our network to learn based on correlations between the input and output.\n"
   ]
  },
  {
   "cell_type": "code",
   "execution_count": null,
   "id": "69d3cfb7",
   "metadata": {},
   "outputs": [],
   "source": []
  },
  {
   "cell_type": "code",
   "execution_count": null,
   "id": "1159d6d3",
   "metadata": {},
   "outputs": [],
   "source": []
  }
 ],
 "metadata": {
  "kernelspec": {
   "display_name": "Python 3",
   "language": "python",
   "name": "python3"
  },
  "language_info": {
   "codemirror_mode": {
    "name": "ipython",
    "version": 3
   },
   "file_extension": ".py",
   "mimetype": "text/x-python",
   "name": "python",
   "nbconvert_exporter": "python",
   "pygments_lexer": "ipython3",
   "version": "3.9.2"
  }
 },
 "nbformat": 4,
 "nbformat_minor": 5
}
